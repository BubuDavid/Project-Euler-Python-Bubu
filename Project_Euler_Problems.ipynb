{
 "cells": [
  {
   "cell_type": "markdown",
   "metadata": {},
   "source": [
    "## Problema 1\n",
    "Si calculamos todos los números naturales menores a 10 que son múltiplos de 3 o 5, obtenemos, 3, 5, 6 y 9. La suma de estos múltiplos es 23.\n",
    "\n",
    "Encuentra la suma de todos los múltiplos de 3 o 5 menores que 1000."
   ]
  },
  {
   "cell_type": "markdown",
   "metadata": {},
   "source": [
    "### Solución por programación\n",
    "Simplemente recorremos los números del 1 al 1000 y checamos cuáles son múltiplos de 3 o 5 y se los sumamos a una variable **suma**"
   ]
  },
  {
   "cell_type": "code",
   "execution_count": 32,
   "metadata": {},
   "outputs": [],
   "source": [
    "def multiplesOf3or5(number):\n",
    "    suma = 0 # Variable inicial en 0\n",
    "    for i in range(1, number):\n",
    "        if i % 5 == 0 or i % 3 == 0: # Checamos que sea multiplo\n",
    "            suma += i #Sumamos\n",
    "    return suma # Regresamos suma"
   ]
  },
  {
   "cell_type": "code",
   "execution_count": 29,
   "metadata": {},
   "outputs": [
    {
     "name": "stdout",
     "output_type": "stream",
     "text": [
      "23\n",
      "543\n",
      "233168\n",
      "16687353\n",
      "89301183\n"
     ]
    }
   ],
   "source": [
    "# Casos\n",
    "print(multiplesOf3or5(10))\n",
    "print(multiplesOf3or5(49))\n",
    "print(multiplesOf3or5(1000))\n",
    "print(multiplesOf3or5(8456))\n",
    "print(multiplesOf3or5(19564))"
   ]
  },
  {
   "cell_type": "markdown",
   "metadata": {},
   "source": [
    "### Solución por matemáticas\n",
    "Utilizamos la suma de Gauss y así ya no necesitamos recorrer todos los números del 1 al 1000.\n",
    "\n",
    "**Nota: Se ve más código pero es más rápido porque no hay ciclos, puras operaciones**"
   ]
  },
  {
   "cell_type": "code",
   "execution_count": 33,
   "metadata": {},
   "outputs": [],
   "source": [
    "def gauss(number):\n",
    "    return (number)*(number+1)/2\n",
    "\n",
    "def mathMultiplesOf3or5(n):\n",
    "    # Encontramos los límites de las 3 sumas que necesitamos\n",
    "    n3 = (n-1)//3\n",
    "    n5 = (n-1)//5\n",
    "    n15 = (n-1)//15\n",
    "    # Aplicamos la suma de Gauss y se las asignamos a suma\n",
    "    suma = (gauss(n3))*3 # Multiplos de 3 de 1 a n\n",
    "    suma += (gauss(n5))*5 # Multiplos de 5 de 1 a n\n",
    "    suma -= (gauss(n15))*15 # Restamos los multiplos de 15 de 1 a n, que son los que se repiten\n",
    "\n",
    "    return int(suma)"
   ]
  },
  {
   "cell_type": "code",
   "execution_count": 34,
   "metadata": {},
   "outputs": [
    {
     "name": "stdout",
     "output_type": "stream",
     "text": [
      "23\n",
      "543\n",
      "233168\n",
      "16687353\n",
      "89301183\n"
     ]
    }
   ],
   "source": [
    "# Casos\n",
    "print(mathMultiplesOf3or5(10))\n",
    "print(mathMultiplesOf3or5(49))\n",
    "print(mathMultiplesOf3or5(1000))\n",
    "print(mathMultiplesOf3or5(8456))\n",
    "print(mathMultiplesOf3or5(19564))"
   ]
  },
  {
   "cell_type": "markdown",
   "metadata": {},
   "source": [
    "## Problem 2\n",
    "Cada nuevo término en la secuencia de Fibonacci es generado, sumando los dos términos previos a él. Empezando con 1 y 2, los primeros 10 términos son:\n",
    "\n",
    "1, 2, 3, 5, 8, 13, 21, 34, 55, 89, ...\n",
    "\n",
    "Considerando los términos de Fibonacci que no exceden los cuatro millones, encuentra la suma de los pares."
   ]
  },
  {
   "cell_type": "markdown",
   "metadata": {},
   "source": [
    "### Solución\n",
    "Usamos 3 números; a, b y c, para guardar, a el primer número, b el segundo número y c la suma de estos últimos, luego, el siguiente número de fibonacci se calcular a partir de sumar b + c... Es decir, el b se convierte en nuestra siguiente a y el c de ahora se convierte en nuestra siguiente b, así el siguiente c será la suma de estos dos últimos, y así hacemos un ciclo hasta que c sea 4e6, y simplemente ponemos un condicional para detectar si es par"
   ]
  },
  {
   "cell_type": "code",
   "execution_count": 39,
   "metadata": {},
   "outputs": [],
   "source": [
    "def evenFibo(n):\n",
    "    a = 1\n",
    "    b = 2\n",
    "    c = a + b\n",
    "    suma = 2\n",
    "    # Checamos que c sea menor a n\n",
    "    while c <= n:\n",
    "        # Verificamos que c sea mútiplo de 2\n",
    "        if c % 2 == 0: \n",
    "            suma += c # Lo sumamos\n",
    "        # Aplicamos la regla de fibonacci para obtener el siguiente número\n",
    "        a = b\n",
    "        b = c\n",
    "        c = a+b\n",
    "    return suma"
   ]
  },
  {
   "cell_type": "code",
   "execution_count": 69,
   "metadata": {},
   "outputs": [
    {
     "name": "stdout",
     "output_type": "stream",
     "text": [
      "10\n",
      "44\n",
      "798\n",
      "60696\n",
      "4613732\n"
     ]
    }
   ],
   "source": [
    "# Casos\n",
    "print(evenFibo(10))\n",
    "print(evenFibo(60))\n",
    "print(evenFibo(1000))\n",
    "print(evenFibo(100000))\n",
    "print(evenFibo(4e6))"
   ]
  },
  {
   "cell_type": "markdown",
   "metadata": {},
   "source": [
    "## Problem 3\n",
    "Los **factores primos** de 13195 son 5, 7, 13 y 29.\n",
    "\n",
    "¿Cuál es el factor primo más grande del número 600851475143?"
   ]
  },
  {
   "cell_type": "markdown",
   "metadata": {},
   "source": [
    "### Solución\n",
    "Lo que queremos es el número primo más grande, por el teorema fundamental de la aritmética, sabemos que cualquier número tiene una representación única de números primos, es decir;\n",
    "\n",
    "si **n** es un número cualquiera, entonces éste está formado por:\n",
    "\\begin{align}\n",
    "n = p_{1} \\cdot p_{2} \\cdot p_{3} \\cdot p_{4} \\cdot ... \\cdot p_{m}\n",
    "\\end{align}\n",
    "\n",
    "Donde, los Pi son números primos, si los Pi están ordenados, el Pm es el más grande. Note que, en general cualquier Pi puede ser igual a otro Pj que esté a su lado, por ejemplo:\n",
    "\\begin{align}\n",
    "24 = 2 \\cdot 2 \\cdot 2 \\cdot 3\n",
    "\\end{align}\n",
    "\n",
    "Con esta lógica, podemos ir quitándole a **n** sus números primos dividiendo hasta que el número nos dé uno, es decir, si hacemos un ciclo, con una variable llamada **div**, que empiece por el 2 (El 1 no es primo) y le sumamos 1 por cada ciclo, y en cada uno de estos checamos si **n** es divisible entre **div**, lo dividimos las veces que esto ocurra (Con un while), y guardando este número en una variable **r**, como estamos haciendo un ciclo que sigue un órden ascendente (Del más chico al más grande), el último número que se guarde será el primo más alto, al final, si n llega a 1, el ciclo se detendrá.\n",
    "\n",
    "También hay recalcar que, a pesar de que estamos sumando de 1 en 1 a **div**, no estamos contando números que no sean primos, por ejemplo, si **n** es divisible entre cuatro (Que no es primo), en el primer ciclo lo dividiremos entre 2 (Que sí es número primo), dos veces, es decir, técnicamente lo estamos dividiendo entre los factores primos del 4, que son 2 dos veces."
   ]
  },
  {
   "cell_type": "code",
   "execution_count": 20,
   "metadata": {},
   "outputs": [
    {
     "name": "stdout",
     "output_type": "stream",
     "text": [
      "6857\n"
     ]
    }
   ],
   "source": [
    "# Definiendo nuestro número n y nuestro div\n",
    "n = 600851475143\n",
    "div = 2\n",
    "# Ciclo que empieza desde 2 hasta que n sea 1.\n",
    "while n != 1:\n",
    "    # Checamos si n se puede dividir por div y cada que lo haga lo dividimos.\n",
    "    while n % div == 0:\n",
    "        n /= div\n",
    "        r = div\n",
    "    div += 1\n",
    "print(r)"
   ]
  },
  {
   "cell_type": "markdown",
   "metadata": {},
   "source": [
    "## Problem 4\n",
    "Un número palíndromo se lee igual de izquierda a derecha que de derecha a izquierda. El número palíndromo más grande formado por el producto de dos números de dos dígitos es 9009 = 91 x 99.\n",
    "\n",
    "Encuentra el palíndromo más grande formado por el producto de dos números de tres dígitos."
   ]
  },
  {
   "cell_type": "markdown",
   "metadata": {},
   "source": [
    "### Solución fea y por fuerza bruta\n",
    "Hacer todas las multiplicaciones posibles y checar cuál es palíndromo."
   ]
  },
  {
   "cell_type": "code",
   "execution_count": 83,
   "metadata": {},
   "outputs": [],
   "source": [
    "def largestPalindromeProduct(n):\n",
    "    # n es el número de los dígitos.\n",
    "    largest = 1\n",
    "    n=n-1\n",
    "    for i in range(10**(n),10**(n+1)):\n",
    "        for j in range(10**(n),i+1):\n",
    "            product = i * j\n",
    "            productstring = str(product)\n",
    "            if(productstring[0:]==productstring[-1::-1] and product > largest):\n",
    "                largest = product\n",
    "    return largest"
   ]
  },
  {
   "cell_type": "code",
   "execution_count": 84,
   "metadata": {},
   "outputs": [
    {
     "name": "stdout",
     "output_type": "stream",
     "text": [
      "9009\n",
      "906609\n"
     ]
    }
   ],
   "source": [
    "print(largestPalindromeProduct(2))\n",
    "print(largestPalindromeProduct(3))"
   ]
  },
  {
   "cell_type": "markdown",
   "metadata": {},
   "source": [
    "## Problem 5\n",
    "2520 es el número más pequeño que puede ser dividido por todos los números del 1 al 10, sin residuo.\n",
    "\n",
    "¿Cuál es el número más pequeño que puede ser dividido por todos los números del 1 al 20?"
   ]
  },
  {
   "cell_type": "markdown",
   "metadata": {},
   "source": [
    "### Solución\n",
    "La idea es un poco más complicada que en los anteriores, primero necesitaremos los conceptos de máximo común divisor y mínimo común múltiplo y tenemos que definirlos, nosotros lo haremos con el método de Euclides, es necesario que lo conozcas si quieres entender el código.\n",
    "\n",
    "Lo que hacemos es encontrar el mcm de todos los números del 1 al **n**, como nuestro algoritmo sólo puede encontrar el mcm de 2 números, tendremos que obtenerlo de manera iterativa, por ejemplo:\n",
    "\n",
    "El mcm(1,2) = 2 pero el mcm(1,2,3) = mcm(mcm(1,2),3) y podemos aplicar esta idea sucesivamente, por ejemplo:\n",
    "\n",
    "\\begin{align}\n",
    "mcm(1,2,3,4) = mcm(mcm(mcm(1,2)3),4)\n",
    "\\end{align}\n",
    "\n",
    "Y así sucesivamente, que se traduce en código como"
   ]
  },
  {
   "cell_type": "code",
   "execution_count": 66,
   "metadata": {},
   "outputs": [],
   "source": [
    "# Algoritmo de Eclides Lambda, para máximo común divisor y mínimo común múltiplo\n",
    "mcd = lambda a,b:  mcd(b,a%b) if b!=0 else a\n",
    "mcm = lambda a, b: int(a*b/mcd(a,b))"
   ]
  },
  {
   "cell_type": "code",
   "execution_count": 67,
   "metadata": {},
   "outputs": [],
   "source": [
    "# Simplemente sacamos de manera iterativa los mínimos comunes múltiplos del 1 al n\n",
    "def mcmFrom1ToN(n):\n",
    "    r = 1\n",
    "    for i in range(2, n+1):\n",
    "        r = mcm(min(i,r), max(i,r))\n",
    "    return r"
   ]
  },
  {
   "cell_type": "code",
   "execution_count": 68,
   "metadata": {},
   "outputs": [
    {
     "name": "stdout",
     "output_type": "stream",
     "text": [
      "2520\n",
      "232792560\n"
     ]
    }
   ],
   "source": [
    "# Casos\n",
    "print(mcmFrom1ToN(10))\n",
    "print(mcmFrom1ToN(20))"
   ]
  },
  {
   "cell_type": "markdown",
   "metadata": {},
   "source": [
    "## Problem 6\n",
    "La suma de los cuadrados de los primeros diez números naturales es,\n",
    "\n",
    "\\begin{align}\n",
    "1^{2}+2^{2}+...+10^{2}=385\n",
    "\\end{align}\n",
    "\n",
    "El cuadrado de la suma de los primeros 10 números naturales es,\n",
    "\n",
    "\\begin{align}\n",
    "(1+2+...+10)^{2}=55^{2}=3025\n",
    "\\end{align}\n",
    "\n",
    "La diferencia entre la suma de los cuadrados y el cuadrado de la suma de los primeros 10 números naturales es 3025−385=2640.\n",
    "\n",
    "Encuentra la diferencia entre la suma de los cuadrados de los primeros cien números naturales y el cuadrado de la suma"
   ]
  },
  {
   "cell_type": "markdown",
   "metadata": {},
   "source": [
    "### Solución\n",
    "Sabemos que la suma de los cuadrados viene dada de la forma:\n",
    "\\begin{align}\n",
    "\\sum^{n}_{k=1} k^{2} = \\frac{n(n+1)(2n+1)}{6}\n",
    "\\end{align}\n",
    "Y por Gauss sabemos que la suma del 1 al n es:\n",
    "\\begin{align}\n",
    "\\sum^{n}_{k=1} k = \\frac{n(n+1)}{2}\n",
    "\\end{align}\n",
    "Significa que lo que queremos sacar es:\n",
    "\\begin{align}\n",
    "\\frac{n(n+1)(2n+1)}{6} - \\frac{n^{2}(n+1)^{2}}{4}\n",
    "\\end{align}\n",
    "Simplemente hay que programar eso"
   ]
  },
  {
   "cell_type": "code",
   "execution_count": 43,
   "metadata": {},
   "outputs": [],
   "source": [
    "def sumOfSquaresMinusSquareOfSum(n):\n",
    "    return int(n**2 * (n+1)**2 / 4 - n * (n+1) * (2*n+1) / 6)"
   ]
  },
  {
   "cell_type": "code",
   "execution_count": 44,
   "metadata": {},
   "outputs": [
    {
     "name": "stdout",
     "output_type": "stream",
     "text": [
      "2640\n",
      "25164150\n"
     ]
    }
   ],
   "source": [
    "# Casos\n",
    "print(sumOfSquaresMinusSquareOfSum(10))\n",
    "print(sumOfSquaresMinusSquareOfSum(100))"
   ]
  },
  {
   "cell_type": "markdown",
   "metadata": {},
   "source": [
    "## Problem 7\n",
    "Los primeros 6 números primos son: 2, 3, 5, 11 y 13, podemos ver que 13 es el sexto número primo.\n",
    "\n",
    "¿Cuál es el primo número 10001?"
   ]
  },
  {
   "cell_type": "code",
   "execution_count": 1,
   "metadata": {},
   "outputs": [],
   "source": [
    "# Creamos una función en donde verifiquemos si un número es primo o nel\n",
    "def isPrime(number):\n",
    "    for i in range(2, int(number**(1/2))+1):\n",
    "        if number % i == 0:\n",
    "            return False\n",
    "    return True\n",
    "    \n",
    "# Definimos nuestra función, pos es la posición del número primo.\n",
    "def primeNumber(pos):\n",
    "    r = 0\n",
    "    i = 2\n",
    "    while r != pos:\n",
    "        if(isPrime(i)):\n",
    "            r += 1\n",
    "        i += 1\n",
    "    return i-1"
   ]
  },
  {
   "cell_type": "code",
   "execution_count": 112,
   "metadata": {},
   "outputs": [
    {
     "name": "stdout",
     "output_type": "stream",
     "text": [
      "13\n",
      "104743\n"
     ]
    }
   ],
   "source": [
    "print(primeNumber(6))\n",
    "print(primeNumber(10001))"
   ]
  },
  {
   "cell_type": "markdown",
   "metadata": {},
   "source": [
    "## Problem 8\n",
    "El siguiente es un número de 1000 dígitos, los cuatro dígitos adyacentes cuyo producto es máximo son: 9 × 9 × 8 × 9 = 5832.\n",
    "\n",
    "73167176531330624919225119674426574742355349194934\n",
    "96983520312774506326239578318016984801869478851843\n",
    "85861560789112949495459501737958331952853208805511\n",
    "12540698747158523863050715693290963295227443043557\n",
    "66896648950445244523161731856403098711121722383113\n",
    "62229893423380308135336276614282806444486645238749\n",
    "30358907296290491560440772390713810515859307960866\n",
    "70172427121883998797908792274921901699720888093776\n",
    "65727333001053367881220235421809751254540594752243\n",
    "52584907711670556013604839586446706324415722155397\n",
    "53697817977846174064955149290862569321978468622482\n",
    "83972241375657056057490261407972968652414535100474\n",
    "82166370484403199890008895243450658541227588666881\n",
    "16427171479924442928230863465674813919123162824586\n",
    "17866458359124566529476545682848912883142607690042\n",
    "24219022671055626321111109370544217506941658960408\n",
    "07198403850962455444362981230987879927244284909188\n",
    "84580156166097919133875499200524063689912560717606\n",
    "05886116467109405077541002256983155200055935729725\n",
    "71636269561882670428252483600823257530420752963450\n",
    "\n",
    "Encuentra los 13 dígitos adyacentes con el producto máximo, ¿Cuál es el valor de este?"
   ]
  },
  {
   "cell_type": "markdown",
   "metadata": {},
   "source": [
    "## Solución (Deseada, WIP)\n",
    "Hacemos un slide window algorithm (O al menos ese es el nombre con el que lo conozco yo), que es básicamente, agarramos los primeros 13, los multiplicamos, luego, en vez de agarrar los siguientes 13 (Tomaría demasiado tiempo), dividimos entre el del extremo izquiero y multiplicamos el que le sigue al extremo derecho, así para evitarnos tomar de 13 en 13, simplemente tomamos de 1 en 1."
   ]
  },
  {
   "cell_type": "markdown",
   "metadata": {},
   "source": [
    "### Solución fea\n",
    "Recorrer el arreglo e ir multiplicando en subconjuntos de **n** en **n**"
   ]
  },
  {
   "cell_type": "code",
   "execution_count": 1,
   "metadata": {},
   "outputs": [],
   "source": [
    "# Definimos nuestra función donde n es el número de dígitos que queremos\n",
    "def largestProductInSeries(number):\n",
    "    # Guardamos el número como string\n",
    "    digit = \"\"\" 73167176531330624919225119674426574742355349194934               \n",
    "                96983520312774506326239578318016984801869478851843\n",
    "                85861560789112949495459501737958331952853208805511\n",
    "                12540698747158523863050715693290963295227443043557\n",
    "                66896648950445244523161731856403098711121722383113\n",
    "                62229893423380308135336276614282806444486645238749\n",
    "                30358907296290491560440772390713810515859307960866\n",
    "                70172427121883998797908792274921901699720888093776\n",
    "                65727333001053367881220235421809751254540594752243\n",
    "                52584907711670556013604839586446706324415722155397\n",
    "                53697817977846174064955149290862569321978468622482\n",
    "                83972241375657056057490261407972968652414535100474\n",
    "                82166370484403199890008895243450658541227588666881\n",
    "                16427171479924442928230863465674813919123162824586\n",
    "                17866458359124566529476545682848912883142607690042\n",
    "                24219022671055626321111109370544217506941658960408\n",
    "                07198403850962455444362981230987879927244284909188\n",
    "                84580156166097919133875499200524063689912560717606\n",
    "                05886116467109405077541002256983155200055935729725\n",
    "                71636269561882670428252483600823257530420752963450\"\"\"\n",
    "    #digit = \"1234056078\"\n",
    "    # Le quitamos los enters\n",
    "    digit = digit.replace(\"\\n\", \"\")\n",
    "    digit = digit.replace(\" \", \"\")\n",
    "    # Definimos nuestras cosas iniciales\n",
    "    N = len(digit)\n",
    "    largest = 1\n",
    "    \n",
    "    for i in range(N):\n",
    "        prod = 1\n",
    "        for j in range(i, i+number):\n",
    "            if j >= N:\n",
    "                break\n",
    "            prod *= int(digit[j])\n",
    "            if prod > largest:\n",
    "                largest = prod\n",
    "    \n",
    "    return largest    "
   ]
  },
  {
   "cell_type": "code",
   "execution_count": 3,
   "metadata": {},
   "outputs": [
    {
     "name": "stdout",
     "output_type": "stream",
     "text": [
      "5832\n",
      "23514624000\n"
     ]
    }
   ],
   "source": [
    "print(largestProductInSeries(4))\n",
    "print(largestProductInSeries(13))"
   ]
  },
  {
   "cell_type": "markdown",
   "metadata": {},
   "source": [
    "## Problem 9\n",
    "Una terna pitagórica es un conjunto de números naturales, a < b < c, para los cuales,\n",
    "\\begin{align}\n",
    "a^{2}+b^{2}=c^{2}\n",
    "\\end{align}\n",
    "Por ejemplo:\n",
    "\\begin{align}\n",
    "3^{2}+4^{2}=5^{2}\n",
    "\\end{align}\n",
    "Existe una sólo una terna pitagórica para el cual se cumple que a + b + c = 1000\n",
    "Encuentra el producto abc"
   ]
  },
  {
   "cell_type": "markdown",
   "metadata": {},
   "source": [
    "### Solución fea\n",
    "Construimos ternas pitagóricas a \"pata\" y checamos si cumplen la condición una por una "
   ]
  },
  {
   "cell_type": "code",
   "execution_count": 11,
   "metadata": {},
   "outputs": [],
   "source": [
    "def specialPythagoreanTriplet(n):\n",
    "    for a in range(1, n+1):\n",
    "        for b in range(a+1, n+1):\n",
    "            for c in range(b+1, n+1):\n",
    "                #print(a, b, c)\n",
    "                if a + b + c == n and a**2 + b**2 == c**2:\n",
    "                    return a*b*c"
   ]
  },
  {
   "cell_type": "code",
   "execution_count": 13,
   "metadata": {},
   "outputs": [
    {
     "name": "stdout",
     "output_type": "stream",
     "text": [
      "31875000\n"
     ]
    }
   ],
   "source": [
    "print(specialPythagoreanTriplet(1000))"
   ]
  },
  {
   "cell_type": "markdown",
   "metadata": {},
   "source": [
    "## Problem 10\n",
    "La suma de los primos menores a 10 es 2 + 3 + 5 + 7 = 17.\n",
    "\n",
    "Encuentra la suma de todos los primos menores a dos millones."
   ]
  },
  {
   "cell_type": "markdown",
   "metadata": {},
   "source": [
    "### Solución\n",
    "Creando una [criba de eratóstenes](https://es.wikipedia.org/wiki/Criba_de_Erat%C3%B3stenes), el proceso es más rápido que checar cada número uno por uno"
   ]
  },
  {
   "cell_type": "code",
   "execution_count": 28,
   "metadata": {},
   "outputs": [],
   "source": [
    "def cribaEratostenes(n):\n",
    "    boolita = [True for i in range(n)]\n",
    "    for i in range(2,n):\n",
    "        if(boolita[i]):\n",
    "            for j in range(i+i,n,i):\n",
    "                boolita[j] = False\n",
    "                #print(j, end=\" \")\n",
    "            #print()\n",
    "            \n",
    "    #print(boolita)\n",
    "    return boolita\n",
    "\n",
    "def summationOfPrimes(n):\n",
    "    suma = 0\n",
    "    criba = cribaEratostenes(n)\n",
    "    for i in range(2, n):\n",
    "        if(criba[i]):\n",
    "            suma += i\n",
    "            \n",
    "    return suma"
   ]
  },
  {
   "cell_type": "code",
   "execution_count": 31,
   "metadata": {},
   "outputs": [
    {
     "name": "stdout",
     "output_type": "stream",
     "text": [
      "17\n",
      "142913828922\n"
     ]
    }
   ],
   "source": [
    "# Casos\n",
    "print(summationOfPrimes(10))\n",
    "print(summationOfPrimes(int(2e6)))"
   ]
  },
  {
   "cell_type": "markdown",
   "metadata": {},
   "source": [
    "## Problem 11\n",
    "En la matriz 20x20 siguiente, cuatro números sobre una línea diagonal ha sido marcada en rojo.\n",
    "\n",
    "<img src=\"./Resources/Problem11.png\"\n",
    "     alt=\"Markdown Monster icon\"\n",
    "     style=\"float: left; margin-right: 10px; width:500px;\" />"
   ]
  },
  {
   "cell_type": "markdown",
   "metadata": {},
   "source": [
    "El producto de estos números es 26 × 63 × 78 × 14 = 1788696.\n",
    "\n",
    "¿Cuál es el producto más grande de cuatro números adyacentes en la misma dirección (arriba, abajo, izquierda, derecha o diagonal) en la matriz de 20x20?"
   ]
  },
  {
   "cell_type": "markdown",
   "metadata": {},
   "source": [
    "### Solución\n",
    "Ir elemento por elemento, checando la multiplicación con sus elementos adyacentes y comparandolos, no se me ocurre una manera más eficiente\n"
   ]
  },
  {
   "cell_type": "code",
   "execution_count": 5,
   "metadata": {},
   "outputs": [
    {
     "name": "stdout",
     "output_type": "stream",
     "text": [
      "8 2 22 97 38 15 0 40 0 75 4 5 7 78 52 12 50 77 91 8 \n",
      "49 49 99 40 17 81 18 57 60 87 17 40 98 43 69 48 4 56 62 0 \n",
      "81 49 31 73 55 79 14 29 93 71 40 67 53 88 30 3 49 13 36 65 \n",
      "52 70 95 23 4 60 11 42 69 24 68 56 1 32 56 71 37 2 36 91 \n",
      "22 31 16 71 51 67 63 89 41 92 36 54 22 40 40 28 66 33 13 80 \n",
      "24 47 32 60 99 3 45 2 44 75 33 53 78 36 84 20 35 17 12 50 \n",
      "32 98 81 28 64 23 67 10 26 38 40 67 59 54 70 66 18 38 64 70 \n",
      "67 26 20 68 2 62 12 20 95 63 94 39 63 8 40 91 66 49 94 21 \n",
      "24 55 58 5 66 73 99 26 97 17 78 78 96 83 14 88 34 89 63 72 \n",
      "21 36 23 9 75 0 76 44 20 45 35 14 0 61 33 97 34 31 33 95 \n",
      "78 17 53 28 22 75 31 67 15 94 3 80 4 62 16 14 9 53 56 92 \n",
      "16 39 5 42 96 35 31 47 55 58 88 24 0 17 54 24 36 29 85 57 \n",
      "86 56 0 48 35 71 89 7 5 44 44 37 44 60 21 58 51 54 17 58 \n",
      "19 80 81 68 5 94 47 69 28 73 92 13 86 52 17 77 4 89 55 40 \n",
      "4 52 8 83 97 35 99 16 7 97 57 32 16 26 26 79 33 27 98 66 \n",
      "88 36 68 87 57 62 20 72 3 46 33 67 46 55 12 32 63 93 53 69 \n",
      "4 42 16 73 38 25 39 11 24 94 72 18 8 46 29 32 40 62 76 36 \n",
      "20 69 36 41 72 30 23 88 34 62 99 69 82 67 59 85 74 4 36 16 \n",
      "20 73 35 29 78 31 90 1 74 31 49 71 48 86 81 16 23 57 5 54 \n",
      "1 70 54 71 83 51 54 69 16 92 33 48 61 43 52 1 89 19 67 48 \n"
     ]
    }
   ],
   "source": [
    "# En este caso importaremos numpy para que sea más corto todo\n",
    "import numpy as np\n",
    "# Primero leemos la matriz, desde un archivo\n",
    "with open('./Resources/Problem11Matrix.txt', 'r') as f:\n",
    "    matriz = np.array([[int(num) for num in line.split(' ')] for line in f])\n",
    "\n",
    "# Imprimimos para verificar que esté bien\n",
    "for i in range(len(matriz)):\n",
    "    for j in range(len(matriz)):\n",
    "        print(matriz[i][j], end=\" \")\n",
    "    print()"
   ]
  },
  {
   "cell_type": "code",
   "execution_count": 56,
   "metadata": {},
   "outputs": [],
   "source": [
    "def largestProductInAGrid(n, matriz):\n",
    "    maxi = 1\n",
    "    N = len(matriz)\n",
    "    \n",
    "    for i in range(N):\n",
    "        for j in range(N):\n",
    "            prod = [1,1,1,1]\n",
    "            if i + n < N:\n",
    "                for k in range(n):\n",
    "                    prod[1] *= matriz[i+k][j]                \n",
    "                    if j + n < N:\n",
    "                        prod[2] *= matriz[i+k][j+k]\n",
    "                    if j - n + 1 >= 0:\n",
    "                        prod[3] *= matriz[i+k][j-k]\n",
    "            if j + n < N:\n",
    "                for k in range(n):\n",
    "                    prod[0] *= matriz[i][j+k]\n",
    "            if max(prod) > maxi:\n",
    "                maxi = max(prod)\n",
    "    \n",
    "    return maxi"
   ]
  },
  {
   "cell_type": "code",
   "execution_count": 57,
   "metadata": {},
   "outputs": [
    {
     "name": "stdout",
     "output_type": "stream",
     "text": [
      "70600674\n"
     ]
    }
   ],
   "source": [
    "print(largestProductInAGrid(4, matriz))"
   ]
  },
  {
   "cell_type": "markdown",
   "metadata": {},
   "source": [
    "## Problem 12\n",
    "La secuencia de los números triangulares es generada sumando los números naturales. Entonces, el número triángula número 7 sería 1 + 2 + 3 + 4 + 5 + 6 + 7 = 28. Los primeros 10 términos serían.\n",
    "\n",
    "1, 3, 6, 10, 15, 21, 28, 36, 45, 55, ...\n",
    "\n",
    "Escribamos los divisores de los primeros 7 números triangulares:\n",
    "\n",
    " 1: 1 \n",
    " \n",
    " 3: 1,3\n",
    " \n",
    " 6: 1,2,3,6\n",
    "\n",
    "10: 1,2,5,10\n",
    "\n",
    "15: 1,3,5,15\n",
    "\n",
    "21: 1,3,7,21\n",
    "\n",
    "28: 1,2,4,7,14,28\n",
    "\n",
    "Podemos observar que 28 es el primer número triangular en tener más de 5 divisores.\n",
    "\n",
    "¿Cuál es el valor del primer número triangular en tener más de 500 divisores?"
   ]
  },
  {
   "cell_type": "markdown",
   "metadata": {},
   "source": [
    "###  Solución\n",
    "Por la suma de Gauss sabemos que:\n",
    "\\begin{align}\n",
    "\\sum^{n}_{k=1} k = \\frac{n(n+1)}{2}\n",
    "\\end{align}\n",
    "Y coincide con que ese sería el nth número triangular, entonces, como podemos observar, el número de divisores de nuestro número triangular debe de ser el número de divisores n por el número de divisores de (n+1)/2 en caso de que n sea impar, o n/2 en caso de que n sea par, como sea, la idea para sacar los divisores de esto es:\n",
    "\n",
    "Sea n un número cualquiera, sean Pi sus factores primos, Qi los factores primos de n+1.\n",
    "\n",
    "\\begin{align}\n",
    "n = p_{1}^{\\alpha_{1}}p_{2}^{\\alpha_{2}}...\n",
    "\\end{align}\n",
    "\\begin{align}\n",
    "n+1 = q_{1}^{\\beta_{1}}q_{2}^{\\beta_{2}}...\n",
    "\\end{align}\n",
    "\n",
    "Entonces el número de divisores de n es:\n",
    "\\begin{align}\n",
    "(\\alpha_{1} + 1)(\\alpha_{2} + 1)(\\alpha_{3} + 1)...\n",
    "\\end{align}\n",
    "Y de n+1 es:\n",
    "\\begin{align}\n",
    "(\\beta_{1} + 1)(\\beta_{2} + 1)(\\beta_{3} + 1)...\n",
    "\\end{align}\n",
    "\n",
    "Considerando que n y n+1 son coprimos, entonces los divisores de n*(n+1) es:\n",
    "\\begin{align}\n",
    "(\\alpha_{1} + 1)(\\beta_{1} + 1)(\\alpha_{2} + 1)(\\beta_{2} + 1)(\\alpha_{3} + 1)(\\beta_{3} + 1)...\n",
    "\\end{align}\n",
    "\n",
    "Y si n es par entonces los divisores de n(n+1)/2 son:\n",
    "\\begin{align}\n",
    "(\\alpha_{1})(\\beta_{1} + 1)(\\alpha_{2} + 1)(\\beta_{2} + 1)(\\alpha_{3} + 1)(\\beta_{3} + 1)...\n",
    "\\end{align}\n",
    "\n",
    "Y si n+1 es par entonces los divisores de n(n+1)/2 son:\n",
    "\\begin{align}\n",
    "(\\alpha_{1} + 1)(\\beta_{1})(\\alpha_{2} + 1)(\\beta_{2} + 1)(\\alpha_{3} + 1)(\\beta_{3} + 1)...\n",
    "\\end{align}\n"
   ]
  },
  {
   "cell_type": "code",
   "execution_count": 65,
   "metadata": {},
   "outputs": [],
   "source": [
    "def buscaDivisores(n):\n",
    "    \"\"\"\n",
    "    Descripción: Dado un número n, regresará el número de divisores \n",
    "    (si es par, el número de divisores del número n/2)\n",
    "    \"\"\"\n",
    "    i = 2\n",
    "    respuesta = 1\n",
    "    while n != 1:\n",
    "        alpha = 1\n",
    "        \n",
    "        if i == 2 and n % i == 0:\n",
    "            alpha -= 1\n",
    "        \n",
    "        while n % i == 0:\n",
    "            alpha += 1\n",
    "            n /= i\n",
    "        \n",
    "        respuesta = respuesta * alpha\n",
    "        i +=1\n",
    "    return respuesta\n",
    "    \n",
    "    \n",
    "def highlyDivisibleTriangularNumber(n):\n",
    "    \"\"\"\n",
    "    Descripción: Dado un número n, se regresará el primer número triangular que tenga n+1 divisores.\n",
    "    Lógica: Con sumas de Gauss.\n",
    "    \"\"\"\n",
    "    i = 2\n",
    "    while 1:\n",
    "        a = buscaDivisores(i)\n",
    "        b = buscaDivisores(i+1)\n",
    "        \n",
    "        #print(i,a,b)\n",
    "        if a * b >= n:\n",
    "            print(f\"El número triangular número {i}, tiene {a*b} divisores y es: {int(i*(i+1)/2)}\")\n",
    "            return int(i * (i+1)/2)\n",
    "        i += 1"
   ]
  },
  {
   "cell_type": "code",
   "execution_count": 66,
   "metadata": {},
   "outputs": [
    {
     "name": "stdout",
     "output_type": "stream",
     "text": [
      "El número triangular número 7, tiene 6 divisores y es: 28\n",
      "El número triangular número 12375, tiene 576 divisores y es: 76576500\n"
     ]
    },
    {
     "data": {
      "text/plain": [
       "76576500"
      ]
     },
     "execution_count": 66,
     "metadata": {},
     "output_type": "execute_result"
    }
   ],
   "source": [
    "# Casos\n",
    "highlyDivisibleTriangularNumber(5)\n",
    "highlyDivisibleTriangularNumber(500)"
   ]
  },
  {
   "cell_type": "code",
   "execution_count": null,
   "metadata": {},
   "outputs": [],
   "source": []
  }
 ],
 "metadata": {
  "kernelspec": {
   "display_name": "Python 3",
   "language": "python",
   "name": "python3"
  },
  "language_info": {
   "codemirror_mode": {
    "name": "ipython",
    "version": 3
   },
   "file_extension": ".py",
   "mimetype": "text/x-python",
   "name": "python",
   "nbconvert_exporter": "python",
   "pygments_lexer": "ipython3",
   "version": "3.7.4"
  }
 },
 "nbformat": 4,
 "nbformat_minor": 4
}
