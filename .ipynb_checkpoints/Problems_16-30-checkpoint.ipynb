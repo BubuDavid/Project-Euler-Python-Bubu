{
 "cells": [
  {
   "cell_type": "markdown",
   "metadata": {},
   "source": [
    "## Problem 16 \n",
    "$2^{15} = 32768$ Y la suma de sus dígitos es 3 + 2 + 7 + 6 + 8 = 26.\n",
    "\n",
    "¿Cuál es la suma de los dígitos del número $2^{1000}$?"
   ]
  },
  {
   "cell_type": "markdown",
   "metadata": {},
   "source": [
    "### Solución fea\n",
    "Calcular $2^{1000}$, convertirlo a string, en un for recorrer los dígitos, transformarlos en ints y sumarlos. "
   ]
  },
  {
   "cell_type": "code",
   "execution_count": 43,
   "metadata": {},
   "outputs": [],
   "source": [
    "def powerDigitSum(n):\n",
    "    return sum([int(d) for d in str(2**n)])"
   ]
  },
  {
   "cell_type": "code",
   "execution_count": 44,
   "metadata": {},
   "outputs": [
    {
     "name": "stdout",
     "output_type": "stream",
     "text": [
      "La suma de los dígitos de 2**15 es: 26\n",
      "La suma de los dígitos de 2**1000 es: 1366\n"
     ]
    }
   ],
   "source": [
    "print(f\"La suma de los dígitos de 2**15 es: {powerDigitSum(15)}\")\n",
    "print(f\"La suma de los dígitos de 2**1000 es: {powerDigitSum(1000)}\")"
   ]
  },
  {
   "cell_type": "markdown",
   "metadata": {},
   "source": [
    "## Problem 17 \n",
    "Si los números del 1 al 5 son escritos con letras en inglés: one, two, three, four, five, entonces hay 3 + 3 + 5 + 4 + 4 = 19 letras usadas en total.\n",
    "\n",
    "Si todos los números del 1 al 1000 incluyendo el 1000, fueran escritos en palabras, ¿Cuántas letras serían usadas?\n",
    "\n",
    "NOTA: No cuentes espacios ni guiones. Por ejemplo, 343 (three hundred and forty-two) contiene 23 letras y 115 (one hundred and fifteen) contiene 20 letras. El uso de la palabra \"and\" escrita en los números cumple con el uso Británico."
   ]
  },
  {
   "cell_type": "markdown",
   "metadata": {},
   "source": [
    "### Solución\n",
    "Esta solución no es óptima, pero voy a generar a todos los números en letras"
   ]
  },
  {
   "cell_type": "code",
   "execution_count": 3,
   "metadata": {},
   "outputs": [],
   "source": [
    "def numberLetterCounts(n):\n",
    "    numeros = {\n",
    "        1:\"one\",\n",
    "        2:\"two\",\n",
    "        3:\"three\",\n",
    "        4:\"four\",\n",
    "        5:\"five\",\n",
    "        6:\"six\",\n",
    "        7:\"seven\",\n",
    "        8:\"eight\",\n",
    "        9:\"nine\",\n",
    "        10:\"ten\",\n",
    "        11:\"eleven\",\n",
    "        12:\"twelve\",\n",
    "        # A partir de aquí es number+teen\n",
    "        20:\"twenty\",\n",
    "        30:\"thirty\",\n",
    "        40:\"forty\",\n",
    "        50:\"fifty\",\n",
    "        # A partir de aquí es number+ty\n",
    "        100:\"hundred\"\n",
    "        # A partir de aquí es una combinación de todo lo anterior\n",
    "        1000: \"thousand\"\n",
    "    }\n",
    "    \n",
    "    # Con esta base, generamos los números que faltan\n",
    "    for i in range(n):\n",
    "        \n",
    "    \n",
    "    \n",
    "    \n",
    "    print(numeros)"
   ]
  },
  {
   "cell_type": "code",
   "execution_count": 4,
   "metadata": {},
   "outputs": [
    {
     "name": "stdout",
     "output_type": "stream",
     "text": [
      "{1: 'one'}\n"
     ]
    }
   ],
   "source": [
    "numberLetterCounts(10)"
   ]
  },
  {
   "cell_type": "code",
   "execution_count": 3,
   "metadata": {},
   "outputs": [],
   "source": [
    "dd"
   ]
  },
  {
   "cell_type": "code",
   "execution_count": null,
   "metadata": {},
   "outputs": [],
   "source": []
  }
 ],
 "metadata": {
  "kernelspec": {
   "display_name": "Python 3",
   "language": "python",
   "name": "python3"
  },
  "language_info": {
   "codemirror_mode": {
    "name": "ipython",
    "version": 3
   },
   "file_extension": ".py",
   "mimetype": "text/x-python",
   "name": "python",
   "nbconvert_exporter": "python",
   "pygments_lexer": "ipython3",
   "version": "3.8.1"
  }
 },
 "nbformat": 4,
 "nbformat_minor": 4
}
